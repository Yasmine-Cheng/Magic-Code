{
 "cells": [
  {
   "cell_type": "markdown",
   "id": "1df5c731",
   "metadata": {},
   "source": [
    "# Convert By PPT"
   ]
  },
  {
   "cell_type": "code",
   "execution_count": 68,
   "id": "51beb25c",
   "metadata": {},
   "outputs": [],
   "source": [
    "import comtypes\n",
    "import os\n",
    "from comtypes import COMError\n",
    "\n",
    "def PPTtoPDF(inputFileName, outputFileName, formatType = 32):\n",
    "    powerpoint = comtypes.client.CreateObject(\"Powerpoint.Application\")\n",
    "    powerpoint.Visible = 1\n",
    "\n",
    "    if outputFileName[-3:] != 'pdf':\n",
    "        outputFileName = outputFileName + \".pdf\"\n",
    "    deck = powerpoint.Presentations.Open(inputFileName)\n",
    "    deck.SaveAs(outputFileName, formatType) # formatType = 32 for ppt to pdf\n",
    "    deck.Close()\n",
    "    powerpoint.Quit()\n",
    "    \n",
    "mypath = os.path.abspath('__file__')\n",
    "mydir = os.path.dirname(mypath)\n",
    "file_input = os.path.join(mydir, sys.argv[1])\n",
    "\n",
    "# create the pdf output file path and call your function \n",
    "file_output = os.path.join(mydir, sys.argv[1][:-4] + \"pdf\")\n",
    "# PPTtoPDF(file_input, file_output)\n",
    "PPTtoPDF(r'C:\\Users\\mian1\\Desktop\\lecture\\docker_practice.pptx', r'C:\\Users\\mian1\\Desktop\\lecture\\docker_practice.pdf')"
   ]
  },
  {
   "cell_type": "markdown",
   "id": "9c759664",
   "metadata": {},
   "source": [
    "# Convert By Docx"
   ]
  },
  {
   "cell_type": "code",
   "execution_count": 67,
   "id": "2bbf09bf",
   "metadata": {},
   "outputs": [
    {
     "data": {
      "application/vnd.jupyter.widget-view+json": {
       "model_id": "a861415e0afa4008ab4ebede9b775834",
       "version_major": 2,
       "version_minor": 0
      },
      "text/plain": [
       "  0%|          | 0/1 [00:00<?, ?it/s]"
      ]
     },
     "metadata": {},
     "output_type": "display_data"
    }
   ],
   "source": [
    "from docx2pdf import convert\n",
    "\n",
    "convert(r'C:\\Users\\mian1\\Desktop\\08170120_HW4.docx')"
   ]
  },
  {
   "cell_type": "code",
   "execution_count": null,
   "id": "9754563e",
   "metadata": {},
   "outputs": [],
   "source": []
  }
 ],
 "metadata": {
  "kernelspec": {
   "display_name": "Python 3",
   "language": "python",
   "name": "python3"
  },
  "language_info": {
   "codemirror_mode": {
    "name": "ipython",
    "version": 3
   },
   "file_extension": ".py",
   "mimetype": "text/x-python",
   "name": "python",
   "nbconvert_exporter": "python",
   "pygments_lexer": "ipython3",
   "version": "3.8.8"
  }
 },
 "nbformat": 4,
 "nbformat_minor": 5
}
