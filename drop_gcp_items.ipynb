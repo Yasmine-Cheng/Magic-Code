{
 "cells": [
  {
   "cell_type": "markdown",
   "id": "546b61fe-0e77-4d66-a841-7779f1250dc9",
   "metadata": {},
   "source": [
    "### BQ"
   ]
  },
  {
   "cell_type": "code",
   "execution_count": null,
   "id": "f94cd3bc-4ca4-4b1b-add0-fec8a7b889e3",
   "metadata": {
    "tags": []
   },
   "outputs": [],
   "source": [
    "# list all datasets (from specific project)\n",
    "from google.cloud import bigquery\n",
    "\n",
    "client = bigquery.Client()\n",
    "\n",
    "datasets = list(client.list_datasets())\n",
    "\n",
    "for dataset in datasets:\n",
    "    print(dataset.dataset_id)"
   ]
  },
  {
   "cell_type": "code",
   "execution_count": null,
   "id": "e88ddfa5-37b0-4e93-9621-7b1f32bed8d2",
   "metadata": {
    "tags": []
   },
   "outputs": [],
   "source": [
    "# list all tables (from specific dataset)\n",
    "from google.cloud import bigquery\n",
    "\n",
    "bq = bigquery.Client()\n",
    "    \n",
    "projectFrom = 'projectName'\n",
    "datasetFrom = 'datasetName'\n",
    "\n",
    "tables = bq.list_tables(datasetFrom)\n",
    "\n",
    "for table in tables:\n",
    "    print(table.table_id)"
   ]
  },
  {
   "cell_type": "code",
   "execution_count": null,
   "id": "77bc0c5d-37bc-469c-85f0-74e3fe635e42",
   "metadata": {},
   "outputs": [],
   "source": [
    "# delete specific dataset\n",
    "from google.cloud import bigquery\n",
    "\n",
    "client = bigquery.Client()\n",
    "\n",
    "dataset_id = 'your-project.your_dataset'\n",
    "\n",
    "client.delete_dataset(dataset_id, delete_contents=True, not_found_ok=True)\n",
    "\n",
    "print(\"Deleted dataset '{}'.\".format(dataset_id))"
   ]
  },
  {
   "cell_type": "code",
   "execution_count": null,
   "id": "a77a53a6-159f-49e7-bc75-3ec61d54dfda",
   "metadata": {},
   "outputs": [],
   "source": [
    "# delete specific table\n",
    "from google.cloud import bigquery\n",
    "\n",
    "client = bigquery.Client()\n",
    "\n",
    "table_id = 'your-project.your_dataset.your_table'\n",
    "\n",
    "client.delete_table(table_id, not_found_ok=True)\n",
    "\n",
    "print(\"Deleted table '{}'.\".format(table_id))"
   ]
  },
  {
   "cell_type": "code",
   "execution_count": null,
   "id": "80a57d61-5d28-49fc-ab24-e43ed37eb68e",
   "metadata": {},
   "outputs": [],
   "source": [
    "# delete some datasets\n",
    "from google.cloud import bigquery\n",
    "\n",
    "delete_dataset_list = [dataset_id1, dataset_id2]\n",
    "\n",
    "client = bigquery.Client()\n",
    "\n",
    "for i in delete_dataset_list:\n",
    "    client.delete_dataset(i, delete_contents=True, not_found_ok=True)\n",
    "    print(\"Deleted dataset '{}'.\".format(dataset_id))"
   ]
  },
  {
   "cell_type": "code",
   "execution_count": null,
   "id": "c288f7eb-262e-477f-9a5b-c0d63797ecce",
   "metadata": {},
   "outputs": [],
   "source": [
    "# delete some tables\n",
    "from google.cloud import bigquery\n",
    "\n",
    "delete_table_list = [table_id1, table_id2]\n",
    "\n",
    "client = bigquery.Client()\n",
    "\n",
    "for i in delete_table_list:\n",
    "    client.delete_table(i, not_found_ok=True)\n",
    "    print(\"Deleted  '{}'.\".format(table_id))"
   ]
  },
  {
   "cell_type": "markdown",
   "id": "311498bb-2057-412e-a6fb-b5222edd7529",
   "metadata": {},
   "source": [
    "### GCE -> 無法測試"
   ]
  },
  {
   "cell_type": "markdown",
   "id": "b362bcbf-0bdf-44f6-afeb-301dc671fc61",
   "metadata": {},
   "source": [
    "### GCS"
   ]
  },
  {
   "cell_type": "code",
   "execution_count": null,
   "id": "b9a0d5a1-3113-4cd0-97cb-08f94c612d81",
   "metadata": {
    "tags": []
   },
   "outputs": [],
   "source": [
    "# list all bucket \n",
    "from google.cloud import storage\n",
    "\n",
    "storage_client = storage.Client()\n",
    "\n",
    "for bucket in storage_client.list_buckets():\n",
    "    print(bucket.name)"
   ]
  },
  {
   "cell_type": "code",
   "execution_count": null,
   "id": "35940724-ff45-400d-91c2-af63b253022b",
   "metadata": {},
   "outputs": [],
   "source": [
    "# delete specific bucket\n",
    "from google.cloud import storage\n",
    "\n",
    "def delete_bucket(bucket_name):\n",
    "\n",
    "    storage_client = storage.Client()\n",
    "\n",
    "    bucket = storage_client.get_bucket(bucket_name)\n",
    "    bucket.delete()\n",
    "    print(f\"Bucket {bucket.name} deleted\")"
   ]
  },
  {
   "cell_type": "code",
   "execution_count": null,
   "id": "74af6a16-5115-404e-ac83-fbc4f311d382",
   "metadata": {},
   "outputs": [],
   "source": [
    "# delete some buckets\n",
    "from google.cloud import storage\n",
    "\n",
    "delete_bucket_list = [bucket_name1, bucket_name2]\n",
    "\n",
    "def delete_buckets(delete_bucket_list):\n",
    "\n",
    "    storage_client = storage.Client()\n",
    "    \n",
    "    for i in delete_bucket_list:\n",
    "        \n",
    "        bucket = storage_client.get_bucket(bucket_name)\n",
    "        bucket.delete()\n",
    "        print(f\"Bucket {bucket.name} deleted\")"
   ]
  }
 ],
 "metadata": {
  "environment": {
   "kernel": "python3",
   "name": "common-cpu.m91",
   "type": "gcloud",
   "uri": "gcr.io/deeplearning-platform-release/base-cpu:m91"
  },
  "kernelspec": {
   "display_name": "Python 3",
   "language": "python",
   "name": "python3"
  },
  "language_info": {
   "codemirror_mode": {
    "name": "ipython",
    "version": 3
   },
   "file_extension": ".py",
   "mimetype": "text/x-python",
   "name": "python",
   "nbconvert_exporter": "python",
   "pygments_lexer": "ipython3",
   "version": "3.7.12"
  }
 },
 "nbformat": 4,
 "nbformat_minor": 5
}
