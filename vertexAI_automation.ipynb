{
 "cells": [
  {
   "cell_type": "code",
   "execution_count": null,
   "id": "bb7eadc4-0913-458f-a704-2a224667660b",
   "metadata": {},
   "outputs": [],
   "source": [
    "column_transformations=[\n",
    "  {\n",
    "    \"categorical\": {\n",
    "      \"columnName\": \"what_is_your_col_name_1\"\n",
    "    }\n",
    "  },\n",
    "  {\n",
    "    \"numeric\": {\n",
    "      \"columnName\": \"what_is_your_col_name_2\"\n",
    "    }\n",
    "  },\n",
    "  {\n",
    "    \"auto\": {\n",
    "      \"columnName\": \"your_split_col_need_to_add_toooooo\"\n",
    "    }\n",
    "  }\n",
    "]"
   ]
  },
  {
   "cell_type": "code",
   "execution_count": null,
   "id": "0a65adb2-b831-4f0a-b03c-93778a532295",
   "metadata": {},
   "outputs": [],
   "source": [
    "import pandas as pd\n",
    "import time\n",
    "\n",
    "from google.cloud import aiplatform as vertex_ai\n",
    "from google.cloud import bigquery"
   ]
  },
  {
   "cell_type": "code",
   "execution_count": null,
   "id": "fd147300-33a5-45e3-a87a-c7319acc9228",
   "metadata": {},
   "outputs": [],
   "source": [
    "PREFIX = 'project_name'\n",
    "\n",
    "shell_output=!gcloud config list --format 'value(core.project)' 2>/dev/null\n",
    "PROJECT = shell_output[0]\n",
    "print(\"Project ID: \", PROJECT)"
   ]
  },
  {
   "cell_type": "code",
   "execution_count": null,
   "id": "65c3c6db-0cfd-4aa2-88f3-d30f7c41f880",
   "metadata": {},
   "outputs": [],
   "source": [
    "REGION = 'us-central1'\n",
    "# STAGING_BUCKET = f'gs://{PREFIX}-bucket'\n",
    "# VERTEX_SA = f'training-sa@{PROJECT}.iam.gserviceaccount.com'\n",
    "BQ_DATASET_NAME = 'dataset_name' \n",
    "BQ_TABLE_NAME = 'table_name'\n",
    "BQ_LOCATION = 'US'"
   ]
  },
  {
   "cell_type": "code",
   "execution_count": null,
   "id": "d4788715-9d40-4147-84c0-8a3af464f0aa",
   "metadata": {},
   "outputs": [],
   "source": [
    "vertex_ai.init(\n",
    "    project=PROJECT,\n",
    "    location=REGION\n",
    ")"
   ]
  },
  {
   "cell_type": "code",
   "execution_count": null,
   "id": "e154af59-a26f-46db-ab8c-ced0bd8e1e80",
   "metadata": {},
   "outputs": [],
   "source": [
    "display_name = 'display_name'\n",
    "bq_source_uri = f'bq://{PROJECT}.{BQ_DATASET_NAME}.{BQ_TABLE_NAME}'\n",
    "\n",
    "filter = f'display_name=\"{display_name}\"'\n",
    "\n",
    "dataset = vertex_ai.TabularDataset.list(filter=filter)\n",
    "if not dataset:\n",
    "    print(\"Creating a new dataset.\")\n",
    "    dataset = vertex_ai.TabularDataset.create(\n",
    "        display_name=display_name, bq_source=bq_source_uri,\n",
    "    )\n",
    "\n",
    "    dataset.wait()\n",
    "else:\n",
    "    print(\"Using existing dataset: \", dataset[0].resource_name)\n",
    "    dataset = vertex_ai.TabularDataset(dataset_name=dataset[0].resource_name)\n"
   ]
  },
  {
   "cell_type": "code",
   "execution_count": null,
   "id": "9013f021-f957-47e5-8977-e0354c80aea3",
   "metadata": {},
   "outputs": [],
   "source": [
    "model_display_name = 'model_name'\n",
    "target_column = 'target_col'\n",
    "optimization_prediction_type = 'classification'\n",
    "optimization_objective = 'minimize-log-loss'\n",
    "# classification(binary):maximize-au-roc/minimize-log-loss/maximize-au-prc/maximize-precision-at-recall/maximize-recall-at-precision\n",
    "# classification(multi-class):minimize-log-loss\n",
    "# regression:minimize-rmse/minimize-mae/minimize-rmsle\n",
    "optimization_objective_precision_value = 0.5\n",
    "split_column = 'your_split_col_need_to_add_toooooo'\n",
    "weight_column = 'weight_col'\n",
    "budget_milli_node_hours = 1\n",
    "disable_early_stopping = True\n",
    "sync = True\n",
    "\n",
    "\n",
    "job = vertex_ai.AutoMLTabularTrainingJob(\n",
    "    display_name=display_name,\n",
    "    optimization_prediction_type=optimization_prediction_type,\n",
    "    optimization_objective=optimization_objective,\n",
    "    optimization_objective_precision_value=optimization_objective_precision_value,\n",
    "    column_transformations=column_transformations,\n",
    ")\n",
    "\n",
    "model = job.run(\n",
    "    dataset=dataset,\n",
    "    target_column=target_column,\n",
    "    budget_milli_node_hours=budget_milli_node_hours,\n",
    "    model_display_name=model_display_name,\n",
    "    predefined_split_column_name=split_column,\n",
    "    weight_column=weight_column,\n",
    "    disable_early_stopping=disable_early_stopping,\n",
    "    sync=sync\n",
    ")"
   ]
  }
 ],
 "metadata": {
  "environment": {
   "kernel": "python3",
   "name": "common-cpu.m91",
   "type": "gcloud",
   "uri": "gcr.io/deeplearning-platform-release/base-cpu:m91"
  },
  "kernelspec": {
   "display_name": "Python 3",
   "language": "python",
   "name": "python3"
  },
  "language_info": {
   "codemirror_mode": {
    "name": "ipython",
    "version": 3
   },
   "file_extension": ".py",
   "mimetype": "text/x-python",
   "name": "python",
   "nbconvert_exporter": "python",
   "pygments_lexer": "ipython3",
   "version": "3.7.12"
  }
 },
 "nbformat": 4,
 "nbformat_minor": 5
}
