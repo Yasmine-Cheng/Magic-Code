{
 "cells": [
  {
   "cell_type": "code",
   "execution_count": null,
   "id": "a6ec60cc",
   "metadata": {},
   "outputs": [],
   "source": [
    "def F(n, acc=1):\n",
    "    if n == 0:\n",
    "        return 1*acc\n",
    "  else:\n",
    "    return F(n-1, acc*n)\n",
    "  \n",
    "print(F(4))"
   ]
  }
 ],
 "metadata": {
  "kernelspec": {
   "display_name": "Python 3",
   "language": "python",
   "name": "python3"
  },
  "language_info": {
   "codemirror_mode": {
    "name": "ipython",
    "version": 3
   },
   "file_extension": ".py",
   "mimetype": "text/x-python",
   "name": "python",
   "nbconvert_exporter": "python",
   "pygments_lexer": "ipython3",
   "version": "3.8.8"
  }
 },
 "nbformat": 4,
 "nbformat_minor": 5
}
