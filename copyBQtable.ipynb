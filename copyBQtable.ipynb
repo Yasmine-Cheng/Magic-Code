{
 "cells": [
  {
   "cell_type": "code",
   "execution_count": null,
   "metadata": {},
   "outputs": [],
   "source": [
    "from google.cloud import bigquery\n",
    "\n",
    "bq = bigquery.Client()\n",
    "    \n",
    "projectFrom = 'your-project-name[FROM]'\n",
    "datasetFrom = 'your-dataset-name[FROM]'\n",
    "tableSearchString = 'the-table-you-want-to-copy'\n",
    "\n",
    "projectTo = 'your-project-name[TO]'\n",
    "datasetTo = 'your-dataset-name[TO]'\n",
    "\n",
    "tables = bq.list_tables(datasetFrom)\n",
    "\n",
    "for table in tables:\n",
    "    if tableSearchString in table.table_id:\n",
    "        tableFrom = projectFrom + ':' + datasetFrom + '.' + table.table_id\n",
    "        tableTo = projectTo + ':' + datasetTo + '.' + table.table_id\n",
    "\n",
    "        !bq cp $tableFrom $tableTo"
   ]
  }
 ],
 "metadata": {
  "kernelspec": {
   "display_name": "Python 3.10.6 64-bit",
   "language": "python",
   "name": "python3"
  },
  "language_info": {
   "codemirror_mode": {
    "name": "ipython",
    "version": 3
   },
   "file_extension": ".py",
   "mimetype": "text/x-python",
   "name": "python",
   "nbconvert_exporter": "python",
   "pygments_lexer": "ipython3",
   "version": "3.10.6"
  },
  "orig_nbformat": 4,
  "vscode": {
   "interpreter": {
    "hash": "e833022fc8f0bbdb4fc7c304284604094072fdaa8d88a00760cc88ab148e656b"
   }
  }
 },
 "nbformat": 4,
 "nbformat_minor": 2
}
